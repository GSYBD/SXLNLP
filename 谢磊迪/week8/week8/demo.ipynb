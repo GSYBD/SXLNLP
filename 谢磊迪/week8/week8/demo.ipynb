{
 "cells": [
  {
   "cell_type": "code",
   "execution_count": 137,
   "id": "initial_id",
   "metadata": {
    "collapsed": true,
    "ExecuteTime": {
     "end_time": "2024-08-06T05:34:31.764587800Z",
     "start_time": "2024-08-06T05:34:27.480616200Z"
    }
   },
   "outputs": [],
   "source": [
    "import numpy as np\n",
    "import json\n",
    "import random\n",
    "import torch\n",
    "from gensim.models import Word2Vec"
   ]
  },
  {
   "cell_type": "code",
   "execution_count": 359,
   "outputs": [],
   "source": [
    "def word2int():\n",
    "    word_int_dic ={} \n",
    "    with  open('../chars.txt','r',encoding='utf-8') as fq:\n",
    "        for id1,word in enumerate(fq):\n",
    "            word_int_dic[word.strip()]=id1\n",
    "    return word_int_dic \n",
    "def tran_sentence_int(sentence_len,path):\n",
    "    sentence_len =sentence_len\n",
    "    sentens_li =[]\n",
    "    word_int_dic  = word2int()\n",
    "    with open(path,'r',encoding='utf-8') as fq:\n",
    "        for lines in fq: \n",
    "            questions= json.loads(lines)['questions']\n",
    "            words_li =[]\n",
    "            for question in questions:\n",
    "                word_li=[0]*sentence_len\n",
    "                for ind1,word in enumerate(list(question)):\n",
    "                    if ind1<sentence_len:\n",
    "                        word_li[ind1] = word_int_dic.get(word,word_int_dic['[UNK]'])\n",
    "                words_li.append(word_li)\n",
    "            sentens_li.append(words_li)\n",
    "    return sentens_li"
   ],
   "metadata": {
    "collapsed": false,
    "ExecuteTime": {
     "end_time": "2024-08-06T21:55:03.746378700Z",
     "start_time": "2024-08-06T21:55:03.715719600Z"
    }
   },
   "id": "a1aa2082420c8410"
  },
  {
   "cell_type": "code",
   "execution_count": 361,
   "outputs": [],
   "source": [
    "word_int_dic = word2int()"
   ],
   "metadata": {
    "collapsed": false,
    "ExecuteTime": {
     "end_time": "2024-08-06T21:55:24.329602600Z",
     "start_time": "2024-08-06T21:55:24.297224800Z"
    }
   },
   "id": "ee6a79b6fef94415"
  },
  {
   "cell_type": "code",
   "execution_count": 360,
   "outputs": [],
   "source": [
    "path ='../data/train.json'\n",
    "sentence_len = 8\n",
    "one_zero_rate =0.5"
   ],
   "metadata": {
    "collapsed": false,
    "ExecuteTime": {
     "end_time": "2024-08-06T21:55:05.844864200Z",
     "start_time": "2024-08-06T21:55:05.822227Z"
    }
   },
   "id": "9785250cf5ace7e4"
  },
  {
   "cell_type": "markdown",
   "source": [],
   "metadata": {
    "collapsed": false
   },
   "id": "5fe74c74840d6960"
  },
  {
   "cell_type": "code",
   "execution_count": 319,
   "outputs": [
    {
     "name": "stdout",
     "output_type": "stream",
     "text": [
      "1\n"
     ]
    }
   ],
   "source": [
    "sentens_li = tran_sentence_int(sentence_len,path)\n",
    "tran_data_all =[]\n",
    "for i  in  range(1000):\n",
    "    tran_data=[]\n",
    "    #正样本\n",
    "    if np.random.rand()>one_zero_rate:\n",
    "        sentens_class = random.sample(sentens_li,1)[0]\n",
    "        if len(sentens_class)<2:\n",
    "            print(len(sentens_class))\n",
    "        else:\n",
    "            tran_data.extend(random.sample(sentens_class,2))\n",
    "            tran_data = [torch.LongTensor(i) for i in tran_data]\n",
    "            tran_data.extend(torch.LongTensor([1]))\n",
    "    #负样本\n",
    "    else:\n",
    "        sentens_class1,sentens_class2 = random.sample(sentens_li,2)\n",
    "        tran_data = [torch.LongTensor(random.sample(sentens_class1,1)[0])\n",
    "        ,torch.LongTensor(random.sample(sentens_class2,1)[0])\n",
    "        ,torch.LongTensor([-1])]\n",
    "    tran_data_all.append(tran_data)\n",
    "        "
   ],
   "metadata": {
    "collapsed": false,
    "ExecuteTime": {
     "end_time": "2024-08-06T08:06:01.244468700Z",
     "start_time": "2024-08-06T08:06:01.209555200Z"
    }
   },
   "id": "1aed4fd35535ba03"
  },
  {
   "cell_type": "code",
   "execution_count": 348,
   "outputs": [
    {
     "name": "stdout",
     "output_type": "stream",
     "text": [
      "[\"其他业务\", \"宽泛业务问题\"]\n"
     ]
    },
    {
     "ename": "JSONDecodeError",
     "evalue": "Extra data: line 2 column 1 (char 19)",
     "output_type": "error",
     "traceback": [
      "\u001B[1;31m---------------------------------------------------------------------------\u001B[0m",
      "\u001B[1;31mJSONDecodeError\u001B[0m                           Traceback (most recent call last)",
      "Cell \u001B[1;32mIn[348], line 4\u001B[0m\n\u001B[0;32m      2\u001B[0m \u001B[38;5;28;01mfor\u001B[39;00m i \u001B[38;5;129;01min\u001B[39;00m fq:\n\u001B[0;32m      3\u001B[0m     \u001B[38;5;28mprint\u001B[39m(i)\n\u001B[1;32m----> 4\u001B[0m     \u001B[38;5;28mprint\u001B[39m(\u001B[43mjson\u001B[49m\u001B[38;5;241;43m.\u001B[39;49m\u001B[43mload\u001B[49m\u001B[43m(\u001B[49m\u001B[43mfq\u001B[49m\u001B[43m)\u001B[49m)\n\u001B[0;32m      5\u001B[0m     \u001B[38;5;28;01mbreak\u001B[39;00m\n",
      "File \u001B[1;32m~\\.conda\\envs\\nlp1\\lib\\json\\__init__.py:293\u001B[0m, in \u001B[0;36mload\u001B[1;34m(fp, cls, object_hook, parse_float, parse_int, parse_constant, object_pairs_hook, **kw)\u001B[0m\n\u001B[0;32m    274\u001B[0m \u001B[38;5;28;01mdef\u001B[39;00m \u001B[38;5;21mload\u001B[39m(fp, \u001B[38;5;241m*\u001B[39m, \u001B[38;5;28mcls\u001B[39m\u001B[38;5;241m=\u001B[39m\u001B[38;5;28;01mNone\u001B[39;00m, object_hook\u001B[38;5;241m=\u001B[39m\u001B[38;5;28;01mNone\u001B[39;00m, parse_float\u001B[38;5;241m=\u001B[39m\u001B[38;5;28;01mNone\u001B[39;00m,\n\u001B[0;32m    275\u001B[0m         parse_int\u001B[38;5;241m=\u001B[39m\u001B[38;5;28;01mNone\u001B[39;00m, parse_constant\u001B[38;5;241m=\u001B[39m\u001B[38;5;28;01mNone\u001B[39;00m, object_pairs_hook\u001B[38;5;241m=\u001B[39m\u001B[38;5;28;01mNone\u001B[39;00m, \u001B[38;5;241m*\u001B[39m\u001B[38;5;241m*\u001B[39mkw):\n\u001B[0;32m    276\u001B[0m \u001B[38;5;250m    \u001B[39m\u001B[38;5;124;03m\"\"\"Deserialize ``fp`` (a ``.read()``-supporting file-like object containing\u001B[39;00m\n\u001B[0;32m    277\u001B[0m \u001B[38;5;124;03m    a JSON document) to a Python object.\u001B[39;00m\n\u001B[0;32m    278\u001B[0m \n\u001B[1;32m   (...)\u001B[0m\n\u001B[0;32m    291\u001B[0m \u001B[38;5;124;03m    kwarg; otherwise ``JSONDecoder`` is used.\u001B[39;00m\n\u001B[0;32m    292\u001B[0m \u001B[38;5;124;03m    \"\"\"\u001B[39;00m\n\u001B[1;32m--> 293\u001B[0m     \u001B[38;5;28;01mreturn\u001B[39;00m \u001B[43mloads\u001B[49m\u001B[43m(\u001B[49m\u001B[43mfp\u001B[49m\u001B[38;5;241;43m.\u001B[39;49m\u001B[43mread\u001B[49m\u001B[43m(\u001B[49m\u001B[43m)\u001B[49m\u001B[43m,\u001B[49m\n\u001B[0;32m    294\u001B[0m \u001B[43m        \u001B[49m\u001B[38;5;28;43mcls\u001B[39;49m\u001B[38;5;241;43m=\u001B[39;49m\u001B[38;5;28;43mcls\u001B[39;49m\u001B[43m,\u001B[49m\u001B[43m \u001B[49m\u001B[43mobject_hook\u001B[49m\u001B[38;5;241;43m=\u001B[39;49m\u001B[43mobject_hook\u001B[49m\u001B[43m,\u001B[49m\n\u001B[0;32m    295\u001B[0m \u001B[43m        \u001B[49m\u001B[43mparse_float\u001B[49m\u001B[38;5;241;43m=\u001B[39;49m\u001B[43mparse_float\u001B[49m\u001B[43m,\u001B[49m\u001B[43m \u001B[49m\u001B[43mparse_int\u001B[49m\u001B[38;5;241;43m=\u001B[39;49m\u001B[43mparse_int\u001B[49m\u001B[43m,\u001B[49m\n\u001B[0;32m    296\u001B[0m \u001B[43m        \u001B[49m\u001B[43mparse_constant\u001B[49m\u001B[38;5;241;43m=\u001B[39;49m\u001B[43mparse_constant\u001B[49m\u001B[43m,\u001B[49m\u001B[43m \u001B[49m\u001B[43mobject_pairs_hook\u001B[49m\u001B[38;5;241;43m=\u001B[39;49m\u001B[43mobject_pairs_hook\u001B[49m\u001B[43m,\u001B[49m\u001B[43m \u001B[49m\u001B[38;5;241;43m*\u001B[39;49m\u001B[38;5;241;43m*\u001B[39;49m\u001B[43mkw\u001B[49m\u001B[43m)\u001B[49m\n",
      "File \u001B[1;32m~\\.conda\\envs\\nlp1\\lib\\json\\__init__.py:357\u001B[0m, in \u001B[0;36mloads\u001B[1;34m(s, cls, object_hook, parse_float, parse_int, parse_constant, object_pairs_hook, **kw)\u001B[0m\n\u001B[0;32m    352\u001B[0m     \u001B[38;5;28;01mdel\u001B[39;00m kw[\u001B[38;5;124m'\u001B[39m\u001B[38;5;124mencoding\u001B[39m\u001B[38;5;124m'\u001B[39m]\n\u001B[0;32m    354\u001B[0m \u001B[38;5;28;01mif\u001B[39;00m (\u001B[38;5;28mcls\u001B[39m \u001B[38;5;129;01mis\u001B[39;00m \u001B[38;5;28;01mNone\u001B[39;00m \u001B[38;5;129;01mand\u001B[39;00m object_hook \u001B[38;5;129;01mis\u001B[39;00m \u001B[38;5;28;01mNone\u001B[39;00m \u001B[38;5;129;01mand\u001B[39;00m\n\u001B[0;32m    355\u001B[0m         parse_int \u001B[38;5;129;01mis\u001B[39;00m \u001B[38;5;28;01mNone\u001B[39;00m \u001B[38;5;129;01mand\u001B[39;00m parse_float \u001B[38;5;129;01mis\u001B[39;00m \u001B[38;5;28;01mNone\u001B[39;00m \u001B[38;5;129;01mand\u001B[39;00m\n\u001B[0;32m    356\u001B[0m         parse_constant \u001B[38;5;129;01mis\u001B[39;00m \u001B[38;5;28;01mNone\u001B[39;00m \u001B[38;5;129;01mand\u001B[39;00m object_pairs_hook \u001B[38;5;129;01mis\u001B[39;00m \u001B[38;5;28;01mNone\u001B[39;00m \u001B[38;5;129;01mand\u001B[39;00m \u001B[38;5;129;01mnot\u001B[39;00m kw):\n\u001B[1;32m--> 357\u001B[0m     \u001B[38;5;28;01mreturn\u001B[39;00m \u001B[43m_default_decoder\u001B[49m\u001B[38;5;241;43m.\u001B[39;49m\u001B[43mdecode\u001B[49m\u001B[43m(\u001B[49m\u001B[43ms\u001B[49m\u001B[43m)\u001B[49m\n\u001B[0;32m    358\u001B[0m \u001B[38;5;28;01mif\u001B[39;00m \u001B[38;5;28mcls\u001B[39m \u001B[38;5;129;01mis\u001B[39;00m \u001B[38;5;28;01mNone\u001B[39;00m:\n\u001B[0;32m    359\u001B[0m     \u001B[38;5;28mcls\u001B[39m \u001B[38;5;241m=\u001B[39m JSONDecoder\n",
      "File \u001B[1;32m~\\.conda\\envs\\nlp1\\lib\\json\\decoder.py:340\u001B[0m, in \u001B[0;36mJSONDecoder.decode\u001B[1;34m(self, s, _w)\u001B[0m\n\u001B[0;32m    338\u001B[0m end \u001B[38;5;241m=\u001B[39m _w(s, end)\u001B[38;5;241m.\u001B[39mend()\n\u001B[0;32m    339\u001B[0m \u001B[38;5;28;01mif\u001B[39;00m end \u001B[38;5;241m!=\u001B[39m \u001B[38;5;28mlen\u001B[39m(s):\n\u001B[1;32m--> 340\u001B[0m     \u001B[38;5;28;01mraise\u001B[39;00m JSONDecodeError(\u001B[38;5;124m\"\u001B[39m\u001B[38;5;124mExtra data\u001B[39m\u001B[38;5;124m\"\u001B[39m, s, end)\n\u001B[0;32m    341\u001B[0m \u001B[38;5;28;01mreturn\u001B[39;00m obj\n",
      "\u001B[1;31mJSONDecodeError\u001B[0m: Extra data: line 2 column 1 (char 19)"
     ]
    }
   ],
   "source": [
    "with open(\"../data/valid.json\",'r',encoding='utf-8') as fq:\n",
    "    for i in fq:\n",
    "        print(i)\n",
    "        print(json.load(fq))\n",
    "        break"
   ],
   "metadata": {
    "collapsed": false,
    "ExecuteTime": {
     "end_time": "2024-08-06T21:43:48.670758300Z",
     "start_time": "2024-08-06T21:43:48.546922200Z"
    }
   },
   "id": "38b4980e373fc857"
  },
  {
   "cell_type": "code",
   "execution_count": 353,
   "outputs": [],
   "source": [
    "valid_path='../data/valid.json'\n",
    "schema_path='../data/schema.json'"
   ],
   "metadata": {
    "collapsed": false,
    "ExecuteTime": {
     "end_time": "2024-08-06T21:51:23.405432700Z",
     "start_time": "2024-08-06T21:51:23.364562Z"
    }
   },
   "id": "81200d9ae1807153"
  },
  {
   "cell_type": "markdown",
   "source": [],
   "metadata": {
    "collapsed": false
   },
   "id": "2d1729a925b4c5f7"
  },
  {
   "cell_type": "code",
   "execution_count": 355,
   "outputs": [],
   "source": [
    "with open(schema_path, 'r', encoding='utf-8') as fq:\n",
    "        schema_class = json.load(fq)\n",
    "test_li=[]    \n",
    "with open(valid_path,'r',encoding='utf-8') as fq:\n",
    "    for lines in fq:\n",
    "        test_li.append(json.loads(lines))\n",
    "test_int_li=[]\n",
    "for _test in test_li:\n",
    "    word_li = [0]*sentence_len\n",
    "    for ind,word in enumerate((_test[0])):\n",
    "        if ind<=sentence_len:\n",
    "            word_li[ind] = word_int_dic.get(word,word_int_dic['[UNK]'])\n",
    "    \n",
    "    test_int_li.append([word_li,schema_class.get(_test[1])]) \n",
    "        "
   ],
   "metadata": {
    "collapsed": false,
    "ExecuteTime": {
     "end_time": "2024-08-06T21:51:56.769831300Z",
     "start_time": "2024-08-06T21:51:56.750955500Z"
    }
   },
   "id": "efe46d4eb609818a"
  },
  {
   "cell_type": "code",
   "execution_count": 368,
   "outputs": [
    {
     "data": {
      "text/plain": "tensor([436, 264, 172, 542,   0,   0,   0,   0])"
     },
     "execution_count": 368,
     "metadata": {},
     "output_type": "execute_result"
    }
   ],
   "source": [
    "torch.tensor(word_li)"
   ],
   "metadata": {
    "collapsed": false,
    "ExecuteTime": {
     "end_time": "2024-08-06T22:01:38.557388100Z",
     "start_time": "2024-08-06T22:01:38.529879600Z"
    }
   },
   "id": "9dde7025ea18759e"
  },
  {
   "cell_type": "code",
   "execution_count": 365,
   "outputs": [],
   "source": [
    "   \n",
    "        \n",
    " \n",
    "    break"
   ],
   "metadata": {
    "collapsed": false,
    "ExecuteTime": {
     "end_time": "2024-08-06T21:59:02.923003500Z",
     "start_time": "2024-08-06T21:59:02.886357600Z"
    }
   },
   "id": "e9a7453dc7a6df81"
  },
  {
   "cell_type": "code",
   "execution_count": 395,
   "outputs": [],
   "source": [
    "class MyCustomClass:\n",
    "    def __init__(self, items,type):\n",
    "        self.items = items   \n",
    "        if type=='你好':\n",
    "            self.add1()\n",
    "        else:\n",
    "            pass\n",
    "    def  add1(self):\n",
    "        self.items+=[2333]\n",
    "    def __getitem__(self, key):\n",
    "        return self.items[key]"
   ],
   "metadata": {
    "collapsed": false,
    "ExecuteTime": {
     "end_time": "2024-08-06T23:26:35.299999300Z",
     "start_time": "2024-08-06T23:26:35.266323Z"
    }
   },
   "id": "7f5d2429589e0c99"
  },
  {
   "cell_type": "code",
   "execution_count": 398,
   "outputs": [],
   "source": [
    "a = MyCustomClass([100,1000],'你1好')"
   ],
   "metadata": {
    "collapsed": false,
    "ExecuteTime": {
     "end_time": "2024-08-06T23:26:50.668529900Z",
     "start_time": "2024-08-06T23:26:50.634228700Z"
    }
   },
   "id": "9cc8af6089e111ef"
  },
  {
   "cell_type": "code",
   "execution_count": 392,
   "outputs": [],
   "source": [
    "a.add1()"
   ],
   "metadata": {
    "collapsed": false,
    "ExecuteTime": {
     "end_time": "2024-08-06T23:25:25.259969800Z",
     "start_time": "2024-08-06T23:25:25.237795300Z"
    }
   },
   "id": "291392f486a8c11c"
  },
  {
   "cell_type": "code",
   "execution_count": 399,
   "outputs": [
    {
     "ename": "IndexError",
     "evalue": "list index out of range",
     "output_type": "error",
     "traceback": [
      "\u001B[1;31m---------------------------------------------------------------------------\u001B[0m",
      "\u001B[1;31mIndexError\u001B[0m                                Traceback (most recent call last)",
      "Cell \u001B[1;32mIn[399], line 1\u001B[0m\n\u001B[1;32m----> 1\u001B[0m \u001B[43ma\u001B[49m\u001B[43m[\u001B[49m\u001B[38;5;241;43m2\u001B[39;49m\u001B[43m]\u001B[49m\n",
      "Cell \u001B[1;32mIn[395], line 11\u001B[0m, in \u001B[0;36mMyCustomClass.__getitem__\u001B[1;34m(self, key)\u001B[0m\n\u001B[0;32m     10\u001B[0m \u001B[38;5;28;01mdef\u001B[39;00m \u001B[38;5;21m__getitem__\u001B[39m(\u001B[38;5;28mself\u001B[39m, key):\n\u001B[1;32m---> 11\u001B[0m     \u001B[38;5;28;01mreturn\u001B[39;00m \u001B[38;5;28;43mself\u001B[39;49m\u001B[38;5;241;43m.\u001B[39;49m\u001B[43mitems\u001B[49m\u001B[43m[\u001B[49m\u001B[43mkey\u001B[49m\u001B[43m]\u001B[49m\n",
      "\u001B[1;31mIndexError\u001B[0m: list index out of range"
     ]
    }
   ],
   "source": [
    "a[2]"
   ],
   "metadata": {
    "collapsed": false,
    "ExecuteTime": {
     "end_time": "2024-08-06T23:26:52.733928200Z",
     "start_time": "2024-08-06T23:26:52.669601300Z"
    }
   },
   "id": "f16fe4cc829a355c"
  },
  {
   "cell_type": "code",
   "execution_count": 405,
   "outputs": [
    {
     "data": {
      "text/plain": "<Figure size 1000x600 with 1 Axes>",
      "image/png": "[encoded data removed]"
     },
     "metadata": {},
     "output_type": "display_data"
    }
   ],
   "source": [
    "import matplotlib.pyplot as plt\n",
    "\n",
    "# 创建数据\n",
    "days = list(range(1, 26))  # 横坐标从1到25\n",
    "rate_values = [i * 0.1 for i in days]  # 假设的rate值，从0.1到2.5\n",
    "\n",
    "# 纵坐标标签\n",
    "categories = [\"A\", \"B\"]\n",
    "\n",
    "# 创建图表\n",
    "plt.figure(figsize=(10, 6))\n",
    "\n",
    "# 绘制条形图，每个横坐标绘制两次，一次对应\"你好\"，一次对应\"再见\"\n",
    "for i, category in enumerate(categories):\n",
    "    plt.bar(days, [rate * (i + 1) for rate in rate_values], label=category)\n",
    "\n",
    "# 设置图例\n",
    "plt.legend()\n",
    "\n",
    "# 设置纵坐标标签\n",
    "plt.yticks([0.5 + i for i in range(len(categories))], categories)\n",
    "\n",
    "# 设置横坐标标签和标题\n",
    "plt.xticks(days)\n",
    "plt.xlabel('Day')\n",
    "plt.ylabel('Rate')\n",
    "plt.title('Rate Values for Each Day')\n",
    "\n",
    "# 显示x轴和y轴的网格线\n",
    "plt.grid(axis='x')\n",
    "plt.grid(axis='y', linestyle='--')\n",
    "\n",
    "# 显示图表\n",
    "plt.show()"
   ],
   "metadata": {
    "collapsed": false,
    "ExecuteTime": {
     "end_time": "2024-08-07T08:25:39.653633100Z",
     "start_time": "2024-08-07T08:25:39.121078600Z"
    }
   },
   "id": "7a22bdea41f22514"
  },
  {
   "cell_type": "code",
   "execution_count": 1,
   "outputs": [],
   "source": [
    "from   config   import config"
   ],
   "metadata": {
    "collapsed": false,
    "ExecuteTime": {
     "end_time": "2024-08-08T07:41:55.807590100Z",
     "start_time": "2024-08-08T07:41:55.760308300Z"
    }
   },
   "id": "8a884c5816fc056e"
  },
  {
   "cell_type": "code",
   "execution_count": 2,
   "outputs": [
    {
     "data": {
      "text/plain": "{'train_path': '../data/train.json',\n 'vocab_path': '../data/chars.txt',\n 'valid_path': '../data/valid.json',\n 'schema_path': '../data/schema.json',\n 'batch_size': 128,\n 'sentence_len': 8,\n 'one_zero_rate': 0.5,\n 'all_train_data_size': 1000,\n 'hidden_size': 128}"
     },
     "execution_count": 2,
     "metadata": {},
     "output_type": "execute_result"
    }
   ],
   "source": [
    "config "
   ],
   "metadata": {
    "collapsed": false,
    "ExecuteTime": {
     "end_time": "2024-08-08T07:41:55.870988500Z",
     "start_time": "2024-08-08T07:41:55.794429900Z"
    }
   },
   "id": "c6b4c1da7419c798"
  },
  {
   "cell_type": "code",
   "execution_count": 7,
   "outputs": [
    {
     "name": "stdout",
     "output_type": "stream",
     "text": [
      "Elementwise Product:\n",
      " tensor([[ 7, 16, 27],\n",
      "        [40, 55, 72]])\n",
      "Sum of Products:\n",
      " tensor([ 50, 167])\n"
     ]
    }
   ],
   "source": [
    "import torch\n",
    "\n",
    "# 假设有两个形状为 (2, 3) 的张量\n",
    "tensor1 = torch.tensor([[1, 2, 3], [4, 5, 6]])\n",
    "tensor2 = torch.tensor([[7, 8, 9], [10, 11, 12]])\n",
    "\n",
    "# 计算逐元素乘积\n",
    "elementwise_product = torch.mul(tensor1, tensor2)\n",
    "\n",
    "# 对每个 \"features\" 组的元素乘积求和\n",
    "sum_of_products = torch.sum(elementwise_product, axis=-1)\n",
    "\n",
    "print(\"Elementwise Product:\\n\", elementwise_product)\n",
    "print(\"Sum of Products:\\n\", sum_of_products)\n",
    "    "
   ],
   "metadata": {
    "collapsed": false,
    "ExecuteTime": {
     "end_time": "2024-08-08T08:22:39.668880200Z",
     "start_time": "2024-08-08T08:22:32.412317100Z"
    }
   },
   "id": "47bbec4967cbabb9"
  },
  {
   "cell_type": "code",
   "execution_count": 16,
   "outputs": [
    {
     "name": "stdout",
     "output_type": "stream",
     "text": [
      "Elementwise Product:\n",
      " tensor([[ 13,  28,  45,  64],\n",
      "        [ 85, 108, 133, 160],\n",
      "        [189, 220, 253, 288]])\n",
      "Sum of Products:\n",
      " tensor([150, 486, 950])\n"
     ]
    }
   ],
   "source": [
    "import torch\n",
    "\n",
    "# 假设有两个形状为 (3, 4) 的张量\n",
    "tensor1 = torch.tensor([[1, 2, 3, 4], [5, 6, 7, 8], [9, 10, 11, 12]])\n",
    "tensor2 = torch.tensor([[13, 14, 15, 16], [17, 18, 19, 20], [21, 22, 23, 24]])\n",
    "\n",
    "# 计算逐元素乘积\n",
    "elementwise_product = torch.mul(tensor1, tensor2)\n",
    "\n",
    "# 对每个最后一个维度的元素乘积求和\n",
    "sum_of_products = torch.sum(elementwise_product, axis=1)\n",
    "\n",
    "print(\"Elementwise Product:\\n\", elementwise_product)\n",
    "print(\"Sum of Products:\\n\", sum_of_products)"
   ],
   "metadata": {
    "collapsed": false,
    "ExecuteTime": {
     "end_time": "2024-08-08T08:28:08.043572200Z",
     "start_time": "2024-08-08T08:28:07.986278400Z"
    }
   },
   "id": "a274b2d0c94b69f0"
  },
  {
   "cell_type": "code",
   "execution_count": 26,
   "outputs": [
    {
     "name": "stdout",
     "output_type": "stream",
     "text": [
      "Original Tensor:\n",
      " tensor([[1., 3.],\n",
      "        [3., 4.],\n",
      "        [5., 6.]])\n",
      "Normalized Tensor:\n",
      " tensor([[0.1690, 0.3841],\n",
      "        [0.5071, 0.5121],\n",
      "        [0.8452, 0.7682]])\n"
     ]
    }
   ],
   "source": [
    "import torch\n",
    "import torch.nn.functional as F\n",
    "\n",
    "# 定义一个形状为 (3, 2) 的张量\n",
    "tensor1 = torch.tensor([[1.0, 3.0],\n",
    "                        [3.0, 4.0],\n",
    "                        [5.0, 6.0]])\n",
    "\n",
    "# 沿着最后一个维度 (dim=-1) 进行归一化\n",
    "normalized_tensor = F.normalize(tensor1, dim=0)\n",
    "\n",
    "print(\"Original Tensor:\\n\", tensor1)\n",
    "print(\"Normalized Tensor:\\n\", normalized_tensor)"
   ],
   "metadata": {
    "collapsed": false,
    "ExecuteTime": {
     "end_time": "2024-08-08T08:34:27.575656600Z",
     "start_time": "2024-08-08T08:34:27.531591900Z"
    }
   },
   "id": "f990c1d4d608040b"
  },
  {
   "cell_type": "code",
   "execution_count": 27,
   "outputs": [
    {
     "name": "stdout",
     "output_type": "stream",
     "text": [
      "Original Tensor:\n",
      " tensor([[ 1.,  2.,  3.,  4.],\n",
      "        [ 5.,  6.,  7.,  8.],\n",
      "        [ 9., 10., 11., 12.]])\n",
      "Normalized Tensor (dim=-1):\n",
      " tensor([[0.1826, 0.3651, 0.5477, 0.7303],\n",
      "        [0.3790, 0.4549, 0.5307, 0.6065],\n",
      "        [0.4262, 0.4735, 0.5209, 0.5682]])\n",
      "Normalized Tensor (dim=0):\n",
      " tensor([[0.0967, 0.1690, 0.2242, 0.2673],\n",
      "        [0.4834, 0.5071, 0.5232, 0.5345],\n",
      "        [0.8701, 0.8452, 0.8222, 0.8018]])\n"
     ]
    }
   ],
   "source": [
    "import torch\n",
    "import torch.nn.functional as F\n",
    "\n",
    "# 定义一个形状为 (3, 4) 的张量，3 个样本，每个样本有 4 个特征\n",
    "tensor1 = torch.tensor([[1.0, 2.0, 3.0, 4.0],\n",
    "                        [5.0, 6.0, 7.0, 8.0],\n",
    "                        [9.0, 10.0, 11.0, 12.0]])\n",
    "\n",
    "# 使用 dim=-1 归一化，即沿着最后一个维度，每个样本的 4 个特征分别归一化\n",
    "normalized_tensor_dim_neg1 = F.normalize(tensor1, dim=-1)\n",
    "\n",
    "# 使用 dim=0 归一化，即沿着第一个维度，4 个特征在所有样本上的值分别归一化\n",
    "normalized_tensor_dim_0 = F.normalize(tensor1, dim=0)\n",
    "\n",
    "print(\"Original Tensor:\\n\", tensor1)\n",
    "print(\"Normalized Tensor (dim=-1):\\n\", normalized_tensor_dim_neg1)\n",
    "print(\"Normalized Tensor (dim=0):\\n\", normalized_tensor_dim_0)"
   ],
   "metadata": {
    "collapsed": false,
    "ExecuteTime": {
     "end_time": "2024-08-08T08:36:01.346019600Z",
     "start_time": "2024-08-08T08:36:01.316562200Z"
    }
   },
   "id": "fa4940ddf7b68ee5"
  },
  {
   "cell_type": "code",
   "execution_count": 31,
   "outputs": [
    {
     "name": "stdout",
     "output_type": "stream",
     "text": [
      "Original Tensor:\n",
      " tensor([1., 2., 3., 4.])\n",
      "Normalized Tensor (dim=-1):\n",
      " tensor([0.1826, 0.3651, 0.5477, 0.7303])\n",
      "Normalized Tensor (dim=0):\n",
      " tensor([0.1826, 0.3651, 0.5477, 0.7303])\n"
     ]
    }
   ],
   "source": [
    "import torch\n",
    "import torch.nn.functional as F\n",
    "\n",
    "# 定义一个形状为 (3, 4) 的张量，3 个样本，每个样本有 4 个特征\n",
    "tensor1 = torch.tensor([1.0, 2.0, 3.0, 4.0])\n",
    "\n",
    "# 使用 dim=-1 归一化，即沿着最后一个维度，每个样本的 4 个特征分别归一化\n",
    "normalized_tensor_dim_neg1 = F.normalize(tensor1, dim=-1)\n",
    "\n",
    "# 使用 dim=0 归一化，即沿着第一个维度，4 个特征在所有样本上的值分别归一化\n",
    "normalized_tensor_dim_0 = F.normalize(tensor1, dim=0)\n",
    "\n",
    "print(\"Original Tensor:\\n\", tensor1)\n",
    "print(\"Normalized Tensor (dim=-1):\\n\", normalized_tensor_dim_neg1)\n",
    "print(\"Normalized Tensor (dim=0):\\n\", normalized_tensor_dim_0)"
   ],
   "metadata": {
    "collapsed": false,
    "ExecuteTime": {
     "end_time": "2024-08-08T08:38:43.570723200Z",
     "start_time": "2024-08-08T08:38:43.542927600Z"
    }
   },
   "id": "b6da0bb0fd4e0c2b"
  },
  {
   "cell_type": "code",
   "execution_count": 30,
   "outputs": [
    {
     "data": {
      "text/plain": "650"
     },
     "execution_count": 30,
     "metadata": {},
     "output_type": "execute_result"
    }
   ],
   "source": [
    "a"
   ],
   "metadata": {
    "collapsed": false,
    "ExecuteTime": {
     "end_time": "2024-08-08T08:37:03.634327800Z",
     "start_time": "2024-08-08T08:37:03.591609400Z"
    }
   },
   "id": "a3b4e0287330a136"
  },
  {
   "cell_type": "code",
   "execution_count": 1,
   "outputs": [],
   "source": [
    "from  config import config"
   ],
   "metadata": {
    "collapsed": false,
    "ExecuteTime": {
     "end_time": "2024-08-08T09:26:23.869130600Z",
     "start_time": "2024-08-08T09:26:23.844693100Z"
    }
   },
   "id": "7294f4fbeae70b5f"
  },
  {
   "cell_type": "code",
   "execution_count": 2,
   "outputs": [
    {
     "name": "stdout",
     "output_type": "stream",
     "text": [
      "[tensor([1149, 2859, 1413,  219,    0,    0,    0]), tensor([2230, 3732,  311, 1149, 2859,    0,    0]), tensor([2000,  156,  163, 1149, 2859,    0,    0])]\n"
     ]
    }
   ],
   "source": [
    "import torch\n",
    "\n",
    "# 定义列表\n",
    "data = [[1149, 2859, 1413, 219, 0, 0, 0],\n",
    "        [2230, 3732, 311, 1149, 2859, 0, 0],\n",
    "        [2000, 156, 163, 1149, 2859, 0, 0]]\n",
    "\n",
    "# 转换为 Tensor\n",
    "tensor_data = [torch.tensor(i) for i in data]\n",
    "\n",
    "# 查看 Tensor 的内容\n",
    "print(tensor_data)\n"
   ],
   "metadata": {
    "collapsed": false,
    "ExecuteTime": {
     "end_time": "2024-08-09T01:04:22.088207700Z",
     "start_time": "2024-08-09T01:04:22.041407700Z"
    }
   },
   "id": "20d5332e838b0429"
  },
  {
   "cell_type": "code",
   "execution_count": 1,
   "outputs": [],
   "source": [
    "a = [[1],[3],[4]]"
   ],
   "metadata": {
    "collapsed": false,
    "ExecuteTime": {
     "end_time": "2024-08-10T05:44:07.763645Z",
     "start_time": "2024-08-10T05:44:07.717819500Z"
    }
   },
   "id": "c2293a3f792a57a6"
  },
  {
   "cell_type": "code",
   "execution_count": 9,
   "outputs": [],
   "source": [
    "if torch.cuda.is_available():\n",
    "    print(1)"
   ],
   "metadata": {
    "collapsed": false,
    "ExecuteTime": {
     "end_time": "2024-08-09T02:42:06.293021200Z",
     "start_time": "2024-08-09T02:42:06.269021700Z"
    }
   },
   "id": "f9db2ee72c479dd5"
  },
  {
   "cell_type": "code",
   "execution_count": 2,
   "outputs": [
    {
     "name": "stdout",
     "output_type": "stream",
     "text": [
      "1\n"
     ]
    }
   ],
   "source": [
    "if a:\n",
    "    print(1)"
   ],
   "metadata": {
    "collapsed": false,
    "ExecuteTime": {
     "end_time": "2024-08-10T05:44:07.777971400Z",
     "start_time": "2024-08-10T05:44:07.738298300Z"
    }
   },
   "id": "a57d78a09bcbce68"
  },
  {
   "cell_type": "code",
   "execution_count": 9,
   "outputs": [
    {
     "data": {
      "text/plain": "tensor([1., 3., 4.])"
     },
     "execution_count": 9,
     "metadata": {},
     "output_type": "execute_result"
    }
   ],
   "source": [
    "torch.Tensor(a).squeeze().squeeze()\n"
   ],
   "metadata": {
    "collapsed": false,
    "ExecuteTime": {
     "end_time": "2024-08-10T06:43:58.769271700Z",
     "start_time": "2024-08-10T06:43:58.726517800Z"
    }
   },
   "id": "97deb1ee7b26e4c7"
  },
  {
   "cell_type": "code",
   "execution_count": 11,
   "outputs": [],
   "source": [
    " a = [[[1799,  163, 2689, 3250,  999, 4441,    0]],\n",
    " [[1374,  360,    0,    0,    0,    0,    0],\n",
    "  [ 164, 1497,  448,  329, 2675, 1374,  360]],\n",
    " [[1149, 2859, 1413,  219,    0,    0,    0],\n",
    "  [2230, 3732,  311, 1149, 2859,    0,    0],\n",
    "[2000,  156,  163, 1149, 2859,    0,    0]]]"
   ],
   "metadata": {
    "collapsed": false,
    "ExecuteTime": {
     "end_time": "2024-08-10T08:12:53.877087Z",
     "start_time": "2024-08-10T08:12:53.841609600Z"
    }
   },
   "id": "69e6ad61e7ed57d5"
  },
  {
   "cell_type": "code",
   "execution_count": 12,
   "outputs": [
    {
     "ename": "ValueError",
     "evalue": "expected sequence of length 1 at dim 1 (got 2)",
     "output_type": "error",
     "traceback": [
      "\u001B[1;31m---------------------------------------------------------------------------\u001B[0m",
      "\u001B[1;31mValueError\u001B[0m                                Traceback (most recent call last)",
      "Cell \u001B[1;32mIn[12], line 1\u001B[0m\n\u001B[1;32m----> 1\u001B[0m a \u001B[38;5;241m=\u001B[39m \u001B[43mtorch\u001B[49m\u001B[38;5;241;43m.\u001B[39;49m\u001B[43mTensor\u001B[49m\u001B[43m(\u001B[49m\u001B[43ma\u001B[49m\u001B[43m)\u001B[49m\n",
      "\u001B[1;31mValueError\u001B[0m: expected sequence of length 1 at dim 1 (got 2)"
     ]
    }
   ],
   "source": [
    "a = torch.Tensor(a) for i in a"
   ],
   "metadata": {
    "collapsed": false,
    "ExecuteTime": {
     "end_time": "2024-08-10T08:13:07.198899400Z",
     "start_time": "2024-08-10T08:13:07.102673300Z"
    }
   },
   "id": "66db0a26ac390e60"
  },
  {
   "cell_type": "code",
   "execution_count": 15,
   "outputs": [],
   "source": [
    "a = torch.Tensor([1149, 2859, 1413,  219,    0,    0,    0])\n",
    "b = torch.Tensor([1149, 2859,1111,  219,    0,    0,    0])\n",
    "c = torch.Tensor([1111, 2859, 1413,  219,    0,    0,    0])"
   ],
   "metadata": {
    "collapsed": false,
    "ExecuteTime": {
     "end_time": "2024-08-10T08:15:02.695970400Z",
     "start_time": "2024-08-10T08:15:02.647760Z"
    }
   },
   "id": "330c451e3c8aa7d3"
  },
  {
   "cell_type": "code",
   "execution_count": 18,
   "outputs": [],
   "source": [
    "a1 = [a,b,c]\n",
    "a2 = [b,c]\n",
    "a3 = [a,c]"
   ],
   "metadata": {
    "collapsed": false,
    "ExecuteTime": {
     "end_time": "2024-08-10T08:15:47.521248200Z",
     "start_time": "2024-08-10T08:15:47.478154800Z"
    }
   },
   "id": "ad16cf4d0d290945"
  },
  {
   "cell_type": "code",
   "execution_count": 49,
   "outputs": [],
   "source": [
    "a4=[a1,a2,a3]"
   ],
   "metadata": {
    "collapsed": false,
    "ExecuteTime": {
     "end_time": "2024-08-10T08:24:49.746203100Z",
     "start_time": "2024-08-10T08:24:49.710500600Z"
    }
   },
   "id": "49b8c511957d9a3b"
  },
  {
   "cell_type": "code",
   "execution_count": 50,
   "outputs": [
    {
     "data": {
      "text/plain": "[[tensor([1149., 2859., 1413.,  219.,    0.,    0.,    0.]),\n  tensor([1149., 2859., 1111.,  219.,    0.,    0.,    0.]),\n  tensor([1111., 2859., 1413.,  219.,    0.,    0.,    0.])],\n [tensor([1149., 2859., 1111.,  219.,    0.,    0.,    0.]),\n  tensor([1111., 2859., 1413.,  219.,    0.,    0.,    0.])],\n [tensor([1149., 2859., 1413.,  219.,    0.,    0.,    0.]),\n  tensor([1111., 2859., 1413.,  219.,    0.,    0.,    0.])]]"
     },
     "execution_count": 50,
     "metadata": {},
     "output_type": "execute_result"
    }
   ],
   "source": [
    "a4"
   ],
   "metadata": {
    "collapsed": false,
    "ExecuteTime": {
     "end_time": "2024-08-10T08:24:50.338019Z",
     "start_time": "2024-08-10T08:24:50.308828200Z"
    }
   },
   "id": "58b355ea6ae6060e"
  },
  {
   "cell_type": "code",
   "execution_count": 55,
   "outputs": [],
   "source": [
    "\n",
    "import random\n",
    "_sentens_li = a4.copy()\n",
    "first_choice = random.sample(_sentens_li, 1)[0]  # 第一次随机选择\n",
    "_sentens_li = [x for x in _sentens_li if id(x) != id(first_choice)]"
   ],
   "metadata": {
    "collapsed": false,
    "ExecuteTime": {
     "end_time": "2024-08-10T08:25:01.304658600Z",
     "start_time": "2024-08-10T08:25:01.266452500Z"
    }
   },
   "id": "93431aefec8ec838"
  },
  {
   "cell_type": "code",
   "execution_count": 65,
   "outputs": [
    {
     "name": "stdout",
     "output_type": "stream",
     "text": [
      "2183522278784\n",
      "2183522739904\n",
      "2183522278976\n"
     ]
    }
   ],
   "source": [
    "for i in _sentens_li:\n",
    "    print(id(i))\n",
    "    "
   ],
   "metadata": {
    "collapsed": false,
    "ExecuteTime": {
     "end_time": "2024-08-10T08:26:50.628381400Z",
     "start_time": "2024-08-10T08:26:50.588277900Z"
    }
   },
   "id": "febb8916d9eba489"
  },
  {
   "cell_type": "code",
   "execution_count": 66,
   "outputs": [],
   "source": [
    "a1 = random.sample(_sentens_li, 1)"
   ],
   "metadata": {
    "collapsed": false,
    "ExecuteTime": {
     "end_time": "2024-08-10T08:26:53.981535200Z",
     "start_time": "2024-08-10T08:26:53.957239900Z"
    }
   },
   "id": "91901541553aa5a3"
  },
  {
   "cell_type": "code",
   "execution_count": 67,
   "outputs": [
    {
     "data": {
      "text/plain": "(2183522278976,\n [tensor([1149., 2859., 1413.,  219.,    0.,    0.,    0.]),\n  tensor([1111., 2859., 1413.,  219.,    0.,    0.,    0.])])"
     },
     "execution_count": 67,
     "metadata": {},
     "output_type": "execute_result"
    }
   ],
   "source": [
    "id(a1[0]),a1[0]"
   ],
   "metadata": {
    "collapsed": false,
    "ExecuteTime": {
     "end_time": "2024-08-10T08:26:54.347898Z",
     "start_time": "2024-08-10T08:26:54.304868900Z"
    }
   },
   "id": "6d22993bf30b52b9"
  },
  {
   "cell_type": "code",
   "execution_count": 40,
   "outputs": [
    {
     "ename": "TypeError",
     "evalue": "equal(): argument 'input' (position 1) must be Tensor, not list",
     "output_type": "error",
     "traceback": [
      "\u001B[1;31m---------------------------------------------------------------------------\u001B[0m",
      "\u001B[1;31mTypeError\u001B[0m                                 Traceback (most recent call last)",
      "Cell \u001B[1;32mIn[40], line 1\u001B[0m\n\u001B[1;32m----> 1\u001B[0m \u001B[43mtorch\u001B[49m\u001B[38;5;241;43m.\u001B[39;49m\u001B[43mequal\u001B[49m\u001B[43m(\u001B[49m\u001B[43mfirst_choice\u001B[49m\u001B[43m,\u001B[49m\u001B[43mfirst_choice1\u001B[49m\u001B[43m)\u001B[49m\n",
      "\u001B[1;31mTypeError\u001B[0m: equal(): argument 'input' (position 1) must be Tensor, not list"
     ]
    }
   ],
   "source": [
    "torch.equal(id(first_choice),first_choice1)"
   ],
   "metadata": {
    "collapsed": false,
    "ExecuteTime": {
     "end_time": "2024-08-10T08:22:44.997816500Z",
     "start_time": "2024-08-10T08:22:44.940970Z"
    }
   },
   "id": "2842c3d7608a5e7f"
  },
  {
   "cell_type": "code",
   "execution_count": 41,
   "outputs": [
    {
     "data": {
      "text/plain": "2183522739904"
     },
     "execution_count": 41,
     "metadata": {},
     "output_type": "execute_result"
    }
   ],
   "source": [
    "id(first_choice)\n"
   ],
   "metadata": {
    "collapsed": false,
    "ExecuteTime": {
     "end_time": "2024-08-10T08:23:01.617297200Z",
     "start_time": "2024-08-10T08:23:01.583790500Z"
    }
   },
   "id": "8029441bd71fadff"
  },
  {
   "cell_type": "code",
   "execution_count": null,
   "outputs": [],
   "source": [],
   "metadata": {
    "collapsed": false
   },
   "id": "809e8fca618d7d7c"
  }
 ],
 "metadata": {
  "kernelspec": {
   "display_name": "Python 3",
   "language": "python",
   "name": "python3"
  },
  "language_info": {
   "codemirror_mode": {
    "name": "ipython",
    "version": 2
   },
   "file_extension": ".py",
   "mimetype": "text/x-python",
   "name": "python",
   "nbconvert_exporter": "python",
   "pygments_lexer": "ipython2",
   "version": "2.7.6"
  }
 },
 "nbformat": 4,
 "nbformat_minor": 5
}
