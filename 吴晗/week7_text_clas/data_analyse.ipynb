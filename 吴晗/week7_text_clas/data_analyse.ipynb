{
 "cells": [
  {
   "cell_type": "code",
   "execution_count": 3,
   "metadata": {},
   "outputs": [
    {
     "name": "stdout",
     "output_type": "stream",
     "text": [
      "总样本量： 11987\n",
      "正样本量： 4000\n",
      "负样本量： 7987\n",
      "最大长度： 463\n"
     ]
    }
   ],
   "source": [
    "import pandas as pd\n",
    "\n",
    "'''基本信息统计'''\n",
    "data = pd.read_csv('data/文本分类练习.csv')\n",
    "pos_data = data[data['label']==1]\n",
    "neg_data = data[data['label']==0]\n",
    "max_length = data['review'].apply(len).max()\n",
    "# 把label的0，1转换为'负面'和'正面'，不然会变成标签0会对应到<pad>\n",
    "data['label'] = data['label'].map({0:'负面', 1:'正面'})\n",
    "print('总样本量：', len(data))\n",
    "print('正样本量：', len(pos_data))  # 样本量并不均衡，可换用focal_loss，后续会补上相关实验\n",
    "print('负样本量：', len(neg_data))\n",
    "print('最大长度：', max_length)"
   ]
  },
  {
   "cell_type": "code",
   "execution_count": 4,
   "metadata": {},
   "outputs": [
    {
     "name": "stdout",
     "output_type": "stream",
     "text": [
      "训练集样本量： 9589\n",
      "验证集样本量： 2398\n"
     ]
    }
   ],
   "source": [
    "'''划分训练集、验证集'''\n",
    "import json\n",
    "\n",
    "shuffled = data.sample(frac=1).reset_index(drop=True)\n",
    "# shuffled.head()\n",
    "# 数据较少，按照8:2的比例划分训练集、验证集，这里验证集就当测试集用了\n",
    "train = shuffled[ : int(len(shuffled)*0.8)]\n",
    "valid = shuffled[int(len(shuffled)*0.8) : ]\n",
    "\n",
    "print('训练集样本量：', len(train))\n",
    "print('验证集样本量：', len(valid))\n",
    "\n",
    "from config import Config\n",
    "\n",
    "train.to_json(Config['train_data_path'], force_ascii=False, orient='records', lines=True)\n",
    "valid.to_json(Config['valid_data_path'], force_ascii=False, orient='records', lines=True)"
   ]
  }
 ],
 "metadata": {
  "kernelspec": {
   "display_name": "py39",
   "language": "python",
   "name": "python3"
  },
  "language_info": {
   "codemirror_mode": {
    "name": "ipython",
    "version": 3
   },
   "file_extension": ".py",
   "mimetype": "text/x-python",
   "name": "python",
   "nbconvert_exporter": "python",
   "pygments_lexer": "ipython3",
   "version": "3.9.19"
  }
 },
 "nbformat": 4,
 "nbformat_minor": 2
}
